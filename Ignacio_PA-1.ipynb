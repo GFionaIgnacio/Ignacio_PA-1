{
 "cells": [
  {
   "cell_type": "markdown",
   "id": "075b8391-ded6-4671-a522-5a8f806384eb",
   "metadata": {},
   "source": [
    "# 1. Alphabet Soup Problem"
   ]
  },
  {
   "cell_type": "code",
   "execution_count": 2,
   "id": "a80e17a0-abc3-4320-adb0-ca4c516dca72",
   "metadata": {},
   "outputs": [
    {
     "name": "stdin",
     "output_type": "stream",
     "text": [
      "Please enter a single word:  gingerfionarignacio\n"
     ]
    },
    {
     "data": {
      "text/plain": [
       "'aacefgggiiiinnnoorr'"
      ]
     },
     "execution_count": 2,
     "metadata": {},
     "output_type": "execute_result"
    }
   ],
   "source": [
    "def alphabetize_word(word):\n",
    "    # Check if the input is a single word (no spaces allowed)\n",
    "    if \" \" in word:\n",
    "        # Return error message if there are space/s\n",
    "        return \"Error: Please enter a single word without spaces.\"\n",
    "    \n",
    "    # Sort the letters in alphabetical order \n",
    "    # \"(sorted(word)) organizes the letters from A to Z\n",
    "    # \"''.join\" put together the sorted word into a single string\n",
    "    sorted_word = ''.join(sorted(word))\n",
    "    #Return the newly sorted word\n",
    "    return sorted_word\n",
    "\n",
    "# Example usage\n",
    "input_word = input(\"Please enter a single word: \") # Ask the user to input a single word (spaces are not allowed) \n",
    "result = alphabetize_word(input_word) # Call the function with the user's input\n",
    "result # Print the result\n"
   ]
  },
  {
   "cell_type": "markdown",
   "id": "6f1e0d98-066d-4c07-ab10-eed1d77df09d",
   "metadata": {},
   "source": [
    "# 2. Emoticon Problem"
   ]
  },
  {
   "cell_type": "code",
   "execution_count": 4,
   "id": "dc6523aa-aaf3-4976-aa21-d7f360241849",
   "metadata": {},
   "outputs": [
    {
     "name": "stdin",
     "output_type": "stream",
     "text": [
      "Enter a sentence:  i am mad and sad but i smile and grin\n"
     ]
    },
    {
     "name": "stdout",
     "output_type": "stream",
     "text": [
      "i am >:( and :(( but i :) and :D\n"
     ]
    }
   ],
   "source": [
    "def emotify(sentence):\n",
    "    # Create dictionary the match word/s with the emojis\n",
    "    emoticons = {\n",
    "        \"smile\": \":)\",\n",
    "        \"grin\": \":D\",\n",
    "        \"sad\": \":((\",\n",
    "        \"mad\": \">:(\"\n",
    "    }\n",
    "    \n",
    "    # Replace the words with corresponding emoticons\n",
    "    words = sentence.split() # Break sentence into individual words \n",
    "    new_sentence = ' '.join([emoticons.get(word, word) for word in words]) # Replace the word/s with their corresponding emoticons. If not applicable then no need to change that word. \n",
    "\n",
    "    # Return the new sentence with their corresponding emoticons\n",
    "    return new_sentence\n",
    "\n",
    "# Example usage\n",
    "user_input = input(\"Enter a sentence: \") # Ask user to input a sentence\n",
    "result = emotify(user_input) # Call the emotify function to change / replace the words with emoticons if applicable \n",
    "print(result) # Print the result\n"
   ]
  },
  {
   "cell_type": "markdown",
   "id": "3d72cfcc-3962-4673-b35a-ea38f98b3149",
   "metadata": {},
   "source": [
    "# 3. Unpacking List Problem"
   ]
  },
  {
   "cell_type": "code",
   "execution_count": 6,
   "id": "37f4d60c-bde2-4830-8d84-f5a34a8f3860",
   "metadata": {},
   "outputs": [
    {
     "name": "stdin",
     "output_type": "stream",
     "text": [
      "Enter the numbers separated by spaces:  6 8 2 1  5 8 9 10 11\n"
     ]
    },
    {
     "name": "stdout",
     "output_type": "stream",
     "text": [
      "first: 6\n",
      "middle: [8, 2, 1, 5, 8, 9, 10]\n",
      "last: 11\n"
     ]
    }
   ],
   "source": [
    "# Ask user to input integers that are separated by a space. \n",
    "listOfIntegers = list(map(int, input(\"Enter the numbers separated by spaces: \").split()))\n",
    "\n",
    "# Split the list into 3 sections. First - first integer. Last - last integer. Middle - everything in between of first and last. \n",
    "first, *middle, last = listOfIntegers\n",
    "\n",
    "# Printing the variables\n",
    "print(\"first:\", first) # Print the first number\n",
    "print(\"middle:\", middle) # Print the middle numbers \n",
    "print(\"last:\", last) # Print the last number\n"
   ]
  },
  {
   "cell_type": "markdown",
   "id": "4030c9b5-7011-4160-a085-d96d88c75622",
   "metadata": {},
   "source": [
    "##### "
   ]
  }
 ],
 "metadata": {
  "kernelspec": {
   "display_name": "Python 3 (ipykernel)",
   "language": "python",
   "name": "python3"
  },
  "language_info": {
   "codemirror_mode": {
    "name": "ipython",
    "version": 3
   },
   "file_extension": ".py",
   "mimetype": "text/x-python",
   "name": "python",
   "nbconvert_exporter": "python",
   "pygments_lexer": "ipython3",
   "version": "3.12.4"
  }
 },
 "nbformat": 4,
 "nbformat_minor": 5
}
